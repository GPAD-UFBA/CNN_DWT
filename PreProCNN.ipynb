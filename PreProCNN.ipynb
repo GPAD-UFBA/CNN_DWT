{
 "cells": [
  {
   "cell_type": "code",
   "execution_count": 21,
   "metadata": {},
   "outputs": [],
   "source": [
    "from data_loader import *\n",
    "import numpy as np\n",
    "import pandas as pd\n",
    "import h5py\n",
    "from sklearn.preprocessing import OneHotEncoder\n",
    "import matplotlib.pyplot as plt\n",
    "import matplotlib.image as mpimg\n",
    "from matplotlib import pyplot"
   ]
  },
  {
   "cell_type": "code",
   "execution_count": 22,
   "metadata": {},
   "outputs": [
    {
     "name": "stdout",
     "output_type": "stream",
     "text": [
      "O dataset ACM_MIRUM tem 1410 exemplos de treinamento\n",
      "O dataset HAINSWORTH tem 221 exemplos de treinamento\n",
      "O dataset SMC_MIRUM tem 217 exemplos de treinamento\n",
      "O dataset GTZAN_GENRES tem 999 exemplos de treinamento\n",
      "O dataset EBALL tem 3826 exemplos de treinamento\n",
      "O dataset MTG tem 1170 exemplos de treinamento\n",
      "O dataset GIANSTEPS tem 661 exemplos de treinamento\n",
      "O dataset LMD tem 3605 exemplos de treinamento\n",
      "O dataset EXTENDED_BALLROOM tem 4180 exemplos de treinamento\n",
      "O dataset ISMIR2004 tem 465 exemplos de treinamento\n"
     ]
    }
   ],
   "source": [
    "id_and_bpm1 = np.array(pd.read_csv(\"bpms_database\\ACM_MIRUM.csv\"))\n",
    "id_and_bpm2 = np.array(pd.read_csv(\"bpms_database\\HAINSWORTH.csv\"))\n",
    "id_and_bpm3 = np.array(pd.read_csv(\"bpms_database\\SMC_MIRUM.csv\"))\n",
    "id_and_bpm4 = np.array(pd.read_csv(\"bpms_database\\GTZAN_GENRES.csv\"))\n",
    "id_and_bpm5 = np.array(pd.read_csv(\"bpms_database\\EBALL.csv\"))\n",
    "id_and_bpm6 = np.array(pd.read_csv(\"bpms_database\\MTG.csv\"))\n",
    "id_and_bpm7 = np.array(pd.read_csv(\"bpms_database\\GIANTSTEPS.csv\"))\n",
    "id_and_bpm8 = np.array(pd.read_csv(\"bpms_database\\LMD.csv\"))\n",
    "id_and_bpm9 = np.array(pd.read_csv(\"bpms_database\\ISMIR2004.csv\"))\n",
    "\n",
    "\n",
    "\n",
    "print(\"O dataset ACM_MIRUM tem\", id_and_bpm1.shape[0],\"exemplos de treinamento\")\n",
    "print(\"O dataset HAINSWORTH tem\",id_and_bpm2.shape[0],\"exemplos de treinamento\")\n",
    "print(\"O dataset SMC_MIRUM tem\",id_and_bpm3.shape[0],\"exemplos de treinamento\")\n",
    "print(\"O dataset GTZAN_GENRES tem\",id_and_bpm4.shape[0],\"exemplos de treinamento\")\n",
    "print(\"O dataset EBALL tem\",id_and_bpm5.shape[0],\"exemplos de treinamento\")\n",
    "print(\"O dataset MTG tem\",1170,\"exemplos de treinamento\")\n",
    "print(\"O dataset GIANSTEPS tem\",id_and_bpm7.shape[0],\"exemplos de treinamento\")\n",
    "print(\"O dataset LMD tem\",id_and_bpm8.shape[0]-1,\"exemplos de treinamento\")\n",
    "print(\"O dataset EXTENDED_BALLROOM tem\",4180,\"exemplos de treinamento\")\n",
    "print(\"O dataset ISMIR2004 tem\",id_and_bpm9.shape[0],\"exemplos de treinamento\")\n"
   ]
  },
  {
   "cell_type": "code",
   "execution_count": 23,
   "metadata": {},
   "outputs": [
    {
     "name": "stdout",
     "output_type": "stream",
     "text": [
      "ESCOLHER DATABASE PARA PRÉ-PROCESSAMENTO\n",
      "Opções de escolha:\n",
      "1 = ACM_MIRUM\n",
      "2 = HAINSWORTH\n",
      "3 = SMC_MIRUM\n",
      "4 = GTZAN_GENRES\n",
      "5 = EBALL\n",
      "6 = MTG\n",
      "7 = GIANTSTEPS\n",
      "8 = LMD\n",
      "9 = EXTENDEND_BALLROOM\n",
      "10 = ISMIR2004\n"
     ]
    },
    {
     "name": "stdin",
     "output_type": "stream",
     "text": [
      "Qual Dataset será usado? 8\n"
     ]
    },
    {
     "name": "stdout",
     "output_type": "stream",
     "text": [
      "Você escolheu o Database= lmd\n"
     ]
    }
   ],
   "source": [
    "print(\"ESCOLHER DATABASE PARA PRÉ-PROCESSAMENTO\")\n",
    "print(\"Opções de escolha:\")\n",
    "print(\"1 = ACM_MIRUM\")\n",
    "print(\"2 = HAINSWORTH\")\n",
    "print(\"3 = SMC_MIRUM\")\n",
    "print(\"4 = GTZAN_GENRES\")\n",
    "print(\"5 = EBALL\")\n",
    "print(\"6 = MTG\")\n",
    "print(\"7 = GIANTSTEPS\")\n",
    "print(\"8 = LMD\")\n",
    "print(\"9 = EXTENDEND_BALLROOM\")\n",
    "print(\"10 = ISMIR2004\")\n",
    "\n",
    "\n",
    "database=int(input('Qual Dataset será usado?'))\n",
    "if database==1:\n",
    "    filename = 'acm_mirum'\n",
    "    nb_files = id_and_bpm1.shape[0] \n",
    "elif database==2:\n",
    "    filename = 'hainsworth'\n",
    "    nb_files = id_and_bpm2.shape[0]\n",
    "elif database==3:\n",
    "    filename = 'smc_mirum'\n",
    "    nb_files = id_and_bpm3.shape[0]\n",
    "elif database==4:\n",
    "    filename = 'gtzan'\n",
    "    nb_files = id_and_bpm4.shape[0]\n",
    "elif database==5:\n",
    "    filename= 'eball'\n",
    "    nb_files = id_and_bpm5.shape[0]\n",
    "elif database==6:\n",
    "    filename= 'mtg'\n",
    "    nb_files = 1170 #não foram todos importados \n",
    "elif database==7:\n",
    "    filename= 'giantsteps'\n",
    "    nb_files = id_and_bpm7.shape[0]\n",
    "elif database==8:\n",
    "    filename= 'lmd'\n",
    "    nb_files = id_and_bpm8.shape[0] - 1 \n",
    "elif database==9:\n",
    "    filename= 'extended_ballroom'\n",
    "    nb_files = 4180\n",
    "elif database==10:\n",
    "    filename= 'ismir2004'\n",
    "    nb_files = id_and_bpm9.shape[0]\n",
    "print(\"Você escolheu o Database=\", filename)"
   ]
  },
  {
   "cell_type": "code",
   "execution_count": 24,
   "metadata": {},
   "outputs": [
    {
     "name": "stdout",
     "output_type": "stream",
     "text": [
      "We've already made 0 importation.\n",
      "We've already made 100 importation.\n",
      "We've already made 200 importation.\n",
      "We've already made 300 importation.\n",
      "We've already made 400 importation.\n",
      "We've already made 500 importation.\n",
      "We've already made 600 importation.\n",
      "We've already made 700 importation.\n",
      "We've already made 800 importation.\n",
      "We've already made 900 importation.\n",
      "We've already made 1000 importation.\n",
      "We've already made 1100 importation.\n",
      "We've already made 1200 importation.\n",
      "We've already made 1300 importation.\n",
      "We've already made 1400 importation.\n",
      "We've already made 1500 importation.\n",
      "We've already made 1600 importation.\n",
      "We've already made 1700 importation.\n",
      "We've already made 1800 importation.\n",
      "We've already made 1900 importation.\n",
      "We've already made 2000 importation.\n",
      "We've already made 2100 importation.\n",
      "We've already made 2200 importation.\n",
      "We've already made 2300 importation.\n",
      "We've already made 2400 importation.\n",
      "We've already made 2500 importation.\n",
      "We've already made 2600 importation.\n",
      "We've already made 2700 importation.\n",
      "We've already made 2800 importation.\n",
      "We've already made 2900 importation.\n",
      "We've already made 3000 importation.\n",
      "We've already made 3100 importation.\n",
      "We've already made 3200 importation.\n",
      "We've already made 3300 importation.\n",
      "We've already made 3400 importation.\n",
      "We've already made 3500 importation.\n",
      "We've already made 3600 importation.\n",
      "3605\n"
     ]
    }
   ],
   "source": [
    "whole_data = []\n",
    "\n",
    "# loop from 0 to the number of .hdf5 files you want to load\n",
    "\n",
    "for i in range(0,nb_files):\n",
    "    # Selects the file\n",
    "    file_to_load = 'h5/n2data_' + str(filename) + '_' + str(i) + '.hdf5'\n",
    "    \n",
    "    # Gets data\n",
    "    data = data_loader(file_to_load)\n",
    "    whole_data.append(data)\n",
    "    if i%100 == 0:\n",
    "            print(f\"We've already made {i} importation.\")\n",
    "\n",
    "    \n",
    "print(len(whole_data))"
   ]
  },
  {
   "cell_type": "code",
   "execution_count": 25,
   "metadata": {},
   "outputs": [
    {
     "name": "stdout",
     "output_type": "stream",
     "text": [
      "<class 'numpy.ndarray'>\n",
      "O database possui 3605 exemplos de treinamento.\n",
      "O nível Wavelet A2 tem 149 amostras.\n",
      "O nível Wavelet D2 tem 149 amostras.\n",
      "O nível Wavelet D1 tem 298 amostras.\n",
      "129.99567\n"
     ]
    }
   ],
   "source": [
    "# LIST -> Dictionary(Data) -> Features(numpy.ndarray)\n",
    "# m -> the m-th example\n",
    "# feature -> ODF_SET, PeDF_FULL_SET, PeDF_PARTIAL_SET, coeffs\n",
    "# wavelet_level -> wavelet level\n",
    "# whole_data[m][feature][wavelet_level]\n",
    "\n",
    "print(type(whole_data[0]['ODF_SET'][0]))\n",
    "\n",
    "print(f\"O database possui {len(whole_data)} exemplos de treinamento.\")\n",
    "print(f\"O nível Wavelet A2 tem {len(whole_data[0]['PeDF_PARTIAL_SET'][0])} amostras.\")\n",
    "print(f\"O nível Wavelet D2 tem {len(whole_data[0]['PeDF_PARTIAL_SET'][1])} amostras.\")\n",
    "print(f\"O nível Wavelet D1 tem {len(whole_data[0]['PeDF_PARTIAL_SET'][2])} amostras.\")\n",
    "\n",
    "\n",
    "print(whole_data[0]['bpm'])"
   ]
  },
  {
   "cell_type": "code",
   "execution_count": 26,
   "metadata": {},
   "outputs": [
    {
     "name": "stdout",
     "output_type": "stream",
     "text": [
      "<class 'numpy.ndarray'>\n",
      "O valor máximo de andamento é 161.0.\n",
      "O valor mínimo de andamento é 44.0.\n",
      "[[130.]\n",
      " [129.]\n",
      " [145.]\n",
      " [116.]\n",
      " [128.]\n",
      " [ 82.]\n",
      " [128.]\n",
      " [126.]\n",
      " [128.]\n",
      " [110.]]\n"
     ]
    }
   ],
   "source": [
    "# CRIANDO VETOR PRÓPRIO Y\n",
    "y = []\n",
    "yy = []\n",
    "for j in range(0,len(whole_data)): \n",
    "    yy.append(whole_data[j]['bpm'])\n",
    "\n",
    "    \n",
    "yy = np.array(yy, dtype=np.float).reshape(len(whole_data),1)\n",
    "print(type(yy))\n",
    "for j in range(0,len(whole_data)): \n",
    "    y.append(round(yy[j][0]))\n",
    "    \n",
    "y = np.array(y, dtype=np.float).reshape(len(whole_data),1)\n",
    "print(f\"O valor máximo de andamento é {np.max(y)}.\")\n",
    "print(f\"O valor mínimo de andamento é {np.min(y)}.\")\n",
    "\n",
    "print(y[0:10])"
   ]
  },
  {
   "cell_type": "code",
   "execution_count": 27,
   "metadata": {},
   "outputs": [
    {
     "data": {
      "image/png": "[encoded data removed]",
      "text/plain": [
       "<Figure size 432x288 with 1 Axes>"
      ]
     },
     "metadata": {
      "needs_background": "light"
     },
     "output_type": "display_data"
    }
   ],
   "source": [
    "plt.hist(y,bins=250)\n",
    "plt.title(\"Dataset Histogram\")\n",
    "plt.xlabel(\"BPM\")\n",
    "plt.ylabel(\"Recorrência\")\n",
    "plt.show()"
   ]
  },
  {
   "cell_type": "code",
   "execution_count": 28,
   "metadata": {},
   "outputs": [
    {
     "name": "stdout",
     "output_type": "stream",
     "text": [
      "-\n",
      "[[44.0], [45.0], [48.0], [49.0], [50.0], [54.0], [55.0], [56.0], [57.0], [59.0], [60.0], [61.0], [62.0], [63.0], [64.0], [65.0], [66.0], [67.0], [68.0], [69.0], [70.0], [71.0], [73.0], [74.0], [75.0], [76.0], [77.0], [78.0], [79.0], [80.0], [81.0], [82.0], [83.0], [84.0], [86.0], [87.0], [88.0], [89.0], [90.0], [91.0], [92.0], [93.0], [94.0], [95.0], [96.0], [97.0], [98.0], [99.0], [100.0], [101.0], [102.0], [103.0], [104.0], [106.0], [107.0], [108.0], [109.0], [110.0], [111.0], [112.0], [113.0], [114.0], [115.0], [116.0], [117.0], [120.0], [121.0], [122.0], [123.0], [124.0], [125.0], [126.0], [127.0], [128.0], [129.0], [130.0], [131.0], [132.0], [133.0], [134.0], [135.0], [136.0], [137.0], [138.0], [139.0], [140.0], [141.0], [142.0], [143.0], [144.0], [145.0], [146.0], [147.0], [148.0], [149.0], [150.0], [151.0], [152.0], [153.0], [154.0], [155.0], [161.0]]\n",
      "-\n",
      "[1, 2, 3, 4, 5, 6, 7, 8, 10, 11, 15, 25, 29, 30, 34, 43, 64, 74, 78, 94, 113, 144, 155, 157, 177, 198, 211, 219, 221, 231, 267, 337, 394, 427, 445, 446, 465, 529, 582, 686, 734, 749, 751, 752, 756, 782, 825, 905, 966, 1104, 1157, 1200, 1206, 1207, 1218, 1243, 1289, 1343, 1435, 1508, 1575, 1634, 1668, 1694, 1702, 1703, 1704, 1717, 1756, 1836, 1949, 2155, 2354, 2504, 2832, 2933, 3146, 3178, 3213, 3219, 3220, 3221, 3226, 3228, 3238, 3259, 3306, 3325, 3359, 3381, 3414, 3451, 3477, 3489, 3518, 3532, 3567, 3579, 3594, 3602, 3603, 3605]\n",
      "-\n",
      "[1, 2, 3, 4, 5, 6, 8, 10, 12, 14, 16, 17, 20, 21, 23, 24, 25, 26, 29, 33, 36, 37, 39, 41, 42, 47, 51, 57, 59, 62, 64, 68, 73, 76, 78, 81, 86, 93, 105, 109, 118, 123, 127, 136, 141, 142, 143, 153, 162, 165, 176, 178, 196, 198, 203, 208, 213, 223, 245, 272, 276, 280, 283, 304, 318, 321, 349, 377, 405, 410, 432, 521, 636, 671, 689, 704, 706, 745, 775, 855, 907, 1187, 1239, 1268, 1363, 1369, 1393, 1445, 1453, 1555, 1672, 1692, 1860, 2073, 2139, 2208, 2222, 2476, 2543, 2708, 3297, 3347]\n",
      "-\n",
      "[1, 1, 1, 1, 1, 1, 1, 2, 1, 4, 10, 4, 1, 4, 9, 21, 10, 4, 16, 19, 31, 11, 2, 20, 21, 13, 8, 2, 10, 36, 70, 57, 33, 18, 1, 19, 64, 53, 104, 48, 15, 2, 1, 4, 26, 43, 80, 61, 138, 53, 43, 6, 1, 11, 25, 46, 54, 92, 73, 67, 59, 34, 26, 8, 1, 1, 13, 39, 80, 113, 206, 199, 150, 328, 101, 213, 32, 35, 6, 1, 1, 5, 2, 10, 21, 47, 19, 34, 22, 33, 37, 26, 12, 29, 14, 35, 12, 15, 8, 1, 2, 1]\n",
      "3605\n"
     ]
    }
   ],
   "source": [
    "aux2 = y.tolist()\n",
    "print(\"-\")\n",
    "def remove_repetidos(lista):\n",
    "    l = []\n",
    "    laux = []\n",
    "    a=0\n",
    "    for i in lista:\n",
    "        a=a+1\n",
    "        if i not in l:\n",
    "            l.append(i)\n",
    "            laux.append(a)\n",
    "    l.sort()\n",
    "    return l, laux\n",
    "\n",
    "classes_sort, posicao = remove_repetidos(aux2)\n",
    "\n",
    "print(classes_sort)\n",
    "aux2=sorted(aux2)\n",
    "print(\"-\")\n",
    "rcr = []\n",
    "recorrencia = []\n",
    "laux = []\n",
    "l = []\n",
    "a=0\n",
    "for i in aux2:\n",
    "    rcr.append(aux2.count(i))\n",
    "    a=a+1\n",
    "    if i not in l:\n",
    "        l.append(i)\n",
    "        laux.append(a)\n",
    "\n",
    "for i in laux:\n",
    "    recorrencia.append(rcr[i-1])\n",
    "\n",
    "print(laux)\n",
    "print(\"-\")\n",
    "print(posicao)\n",
    "\n",
    "print(\"-\")\n",
    "print(recorrencia)\n",
    "print(sum(recorrencia))\n"
   ]
  },
  {
   "cell_type": "code",
   "execution_count": 29,
   "metadata": {},
   "outputs": [
    {
     "name": "stdout",
     "output_type": "stream",
     "text": [
      "(3605, 250)\n",
      "[[0 0 0 ... 0 0 0]\n",
      " [0 0 0 ... 0 0 0]\n",
      " [0 0 0 ... 0 0 0]\n",
      " ...\n",
      " [0 0 0 ... 0 0 0]\n",
      " [0 0 0 ... 0 0 0]\n",
      " [0 0 0 ... 0 0 0]]\n"
     ]
    }
   ],
   "source": [
    "list=[] #Classes de 20 até 269\n",
    "list2=[] #OneHOT enconder\n",
    "list3=[] #lista para Y\n",
    "for i in range(0,250): list.append(i+20),list2.append(0)\n",
    "for j in range(0,nb_files):\n",
    "    for i in range(0,250):\n",
    "        if y[j]==list[i]:\n",
    "            list2[i]=1\n",
    "    list3.append(list2)\n",
    "    list2=[]\n",
    "    for i in range(0,250): list2.append(0)\n",
    "\n",
    "        \n",
    "\n",
    "Y=np.array(list3).reshape(nb_files,250)\n",
    "print(Y.shape)\n",
    "print(Y[0:10])\n",
    "\n"
   ]
  },
  {
   "cell_type": "code",
   "execution_count": 30,
   "metadata": {},
   "outputs": [
    {
     "name": "stdout",
     "output_type": "stream",
     "text": [
      "1.0\n",
      "306\n",
      "(17, 18, 3)\n"
     ]
    },
    {
     "data": {
      "image/png": "[encoded data removed]",
      "text/plain": [
       "<Figure size 432x288 with 1 Axes>"
      ]
     },
     "metadata": {
      "needs_background": "light"
     },
     "output_type": "display_data"
    }
   ],
   "source": [
    "print(whole_data[0]['PeDF_PARTIAL_SET'][2][0])\n",
    "lista = []\n",
    "\n",
    "for j in range(0,len(whole_data)):  #varrer m-exemplos\n",
    "\n",
    "    listaux0 = []    #D1\n",
    "    listaux1 = []    #D2\n",
    "    listaux2 = []    #A2\n",
    "    listaux0.append(1)\n",
    "    listaux1.append(1)    \n",
    "    listaux2.append(1)  \n",
    "    for i in range(1,len(whole_data[0]['PeDF_PARTIAL_SET'][2])):\n",
    "        if (i<len(whole_data[j]['PeDF_PARTIAL_SET'][2])-1):\n",
    "            if (whole_data[j]['PeDF_PARTIAL_SET'][2][i]>whole_data[j]['PeDF_PARTIAL_SET'][2][i-1] and whole_data[j]['PeDF_PARTIAL_SET'][2][i]>whole_data[j]['PeDF_PARTIAL_SET'][2][i+1]):\n",
    "                listaux0.append(whole_data[j]['PeDF_PARTIAL_SET'][2][i])\n",
    "            else:\n",
    "                listaux0.append(0)\n",
    "        else: \n",
    "            listaux0.append(0)\n",
    "\n",
    "    for i in range(1,len(whole_data[0]['PeDF_PARTIAL_SET'][1])):\n",
    "        if (i<len(whole_data[0]['PeDF_PARTIAL_SET'][1])-1):\n",
    "            if (whole_data[j]['PeDF_PARTIAL_SET'][1][i]>whole_data[j]['PeDF_PARTIAL_SET'][1][i-1] and whole_data[j]['PeDF_PARTIAL_SET'][1][i]>whole_data[j]['PeDF_PARTIAL_SET'][1][i+1]):\n",
    "                listaux1.append(whole_data[j]['PeDF_PARTIAL_SET'][1][i])\n",
    "            else:\n",
    "                listaux1.append(0)\n",
    "        else: \n",
    "            listaux1.append(0)\n",
    "        if (i<len(whole_data[0]['PeDF_PARTIAL_SET'][0])-1):\n",
    "            if (whole_data[j]['PeDF_PARTIAL_SET'][0][i]>whole_data[j]['PeDF_PARTIAL_SET'][0][i-1] and whole_data[j]['PeDF_PARTIAL_SET'][0][i]>whole_data[j]['PeDF_PARTIAL_SET'][0][i+1]):\n",
    "                listaux2.append(whole_data[j]['PeDF_PARTIAL_SET'][2][i])\n",
    "            else:\n",
    "                listaux2.append(0)\n",
    "        else: \n",
    "            listaux2.append(0)\n",
    "    #print(j)\n",
    "            \n",
    "#Setar shape 298, 149, 149 17x18 = 306 \n",
    "    if filename==\"ismir2004\":\n",
    "        for i in range(0,8+95):\n",
    "            listaux0.append(0)\n",
    "        for i in range(0,8+149+47):\n",
    "            listaux1.append(0)\n",
    "            listaux2.append(0)\n",
    "    else:\n",
    "        for i in range(0,8):\n",
    "            listaux0.append(0)\n",
    "        for i in range(0,8+149):\n",
    "            listaux1.append(0)\n",
    "            listaux2.append(0)\n",
    "\n",
    "#\n",
    "    lista.append([listaux0, listaux1, listaux2]) #len = 3*306*4180 - 3837240 dados\n",
    "#print(lista[2])\n",
    "print(len(listaux0))\n",
    "\n",
    "#lista = np.array(lista).reshape(len(whole_data),3,17,18) #(4180,3,17,18)\n",
    "lista = np.array(lista).reshape(len(whole_data),17,18,3) #(4180,17,18,3)\n",
    "\n",
    "\n",
    "# exemplos --> nível wavelet --> imagem (17x18)\n",
    "listaux0 = np.array(listaux0).reshape(17,18)\n",
    "listaux1 = np.array(listaux1).reshape(17,18)\n",
    "listaux2 = np.array(listaux2).reshape(17,18)\n",
    "\n",
    "print(lista[1].shape)\n",
    "#imagem\n",
    "\n",
    "imgplot = plt.imshow(lista[2])"
   ]
  },
  {
   "cell_type": "code",
   "execution_count": 15,
   "metadata": {},
   "outputs": [
    {
     "data": {
      "text/plain": [
       "Text(0.5, 1.0, 'Image PeDF 3')"
      ]
     },
     "execution_count": 15,
     "metadata": {},
     "output_type": "execute_result"
    },
    {
     "data": {
      "image/png": "[encoded data removed]",
      "text/plain": [
       "<Figure size 432x288 with 1 Axes>"
      ]
     },
     "metadata": {
      "needs_background": "light"
     },
     "output_type": "display_data"
    },
    {
     "data": {
      "image/png": "[encoded data removed]",
      "text/plain": [
       "<Figure size 432x288 with 1 Axes>"
      ]
     },
     "metadata": {
      "needs_background": "light"
     },
     "output_type": "display_data"
    },
    {
     "data": {
      "image/png": "[encoded data removed]",
      "text/plain": [
       "<Figure size 432x288 with 1 Axes>"
      ]
     },
     "metadata": {
      "needs_background": "light"
     },
     "output_type": "display_data"
    }
   ],
   "source": [
    "fig = plt.figure()\n",
    "a = fig.add_subplot(2, 2, 1)\n",
    "imgplot = plt.imshow(lista[0])\n",
    "a.set_title('Image PeDF 1')\n",
    "fig = plt.figure()\n",
    "a = fig.add_subplot(2, 2, 2)\n",
    "imgplot = plt.imshow(lista[2])\n",
    "a.set_title('Image PeDF 2')\n",
    "fig = plt.figure()\n",
    "a = fig.add_subplot(2, 2, 3)\n",
    "imgplot = plt.imshow(lista[3])\n",
    "a.set_title('Image PeDF 3')"
   ]
  },
  {
   "cell_type": "code",
   "execution_count": 16,
   "metadata": {},
   "outputs": [
    {
     "name": "stdout",
     "output_type": "stream",
     "text": [
      "X_test Size (465, 17, 18, 3)\n",
      "Y_test Size (465, 250)\n"
     ]
    }
   ],
   "source": [
    "if filename=='mtg' or filename=='eball' or filename=='extended_ballroom' or filename=='lmd' or filename==\"gtzan\":\n",
    "    np.random.seed(0)\n",
    "    np.random.shuffle(lista)\n",
    "    np.random.seed(0)\n",
    "    np.random.shuffle(Y)\n",
    "\n",
    "    total_size = lista.shape[0]\n",
    "    train_size = int((total_size)*0.90)\n",
    "    val_size = (train_size)\n",
    "    X_train = lista[0:train_size,:,:,:]\n",
    "    Y_train = Y[0:train_size,:]\n",
    "    X_val = lista[val_size:total_size,:,:,:]\n",
    "    Y_val = Y[val_size:total_size,:]\n",
    "\n",
    "    print('Lista Size',lista.shape)\n",
    "    print('Y Size', Y.shape)\n",
    "    print('X_train Size',X_train.shape)\n",
    "    print('Y_train Size',Y_train.shape)\n",
    "    print('X_val Size',X_val.shape)\n",
    "    print('Y_val Size',Y_val.shape)\n",
    "else:\n",
    "    X_test = lista\n",
    "    Y_test = Y\n",
    "    print('X_test Size',X_test.shape)\n",
    "    print('Y_test Size',Y_test.shape)"
   ]
  },
  {
   "cell_type": "code",
   "execution_count": 17,
   "metadata": {},
   "outputs": [
    {
     "data": {
      "image/png": "[encoded data removed]",
      "text/plain": [
       "<Figure size 432x288 with 1 Axes>"
      ]
     },
     "metadata": {
      "needs_background": "light"
     },
     "output_type": "display_data"
    }
   ],
   "source": [
    "bins=Y.shape[1]\n",
    "limclass=np.array(classes_sort).T.shape[1]\n",
    "#===ONE HOT TO LIN===#\n",
    "if filename=='mtg' or filename=='eball' or filename=='extended_ballroom' or filename=='lmd' or filename==\"gtzan\":\n",
    "    #===TRAIN===#\n",
    "    Y_train_ = []\n",
    "    Y_train_lin = []\n",
    "\n",
    "    for cont in range(0,Y_train.shape[0]):\n",
    "        a = 0\n",
    "        i = 0\n",
    "        for a in range(0,Y_train.shape[1]):\n",
    "            i = Y_train[cont][a]\n",
    "            if (i==1):\n",
    "                Y_train_.append(a)\n",
    "            a += 1\n",
    "    for i in range(0,Y_train.shape[0]):\n",
    "        for j in range(0,limclass):\n",
    "            if Y_train_[i]+20==classes_sort[j][0]:\n",
    "                Y_train_lin.append(classes_sort[j][0])\n",
    "    #print(np.array(Y_train_lin))\n",
    "\n",
    "\n",
    "    #===VAL===#\n",
    "    Y_val_ = []\n",
    "    Y_val_lin = []\n",
    "\n",
    "    for cont in range(0,Y_val.shape[0]):\n",
    "        a = 0\n",
    "        i = 0\n",
    "        for a in range(0,Y_val.shape[1]):\n",
    "            i = Y_val[cont][a]\n",
    "            if (i==1):\n",
    "                Y_val_.append(a)\n",
    "            a += 1\n",
    "    for i in range(0,Y_val.shape[0]):\n",
    "        for j in range(0,limclass):\n",
    "            if Y_val_[i]+20==classes_sort[j][0]:\n",
    "                Y_val_lin.append(classes_sort[j][0])\n",
    "    #print(np.array(Y_val_lin))\n",
    "    \n",
    "    pyplot.hist(Y_train_lin, bins, alpha=0.5, label='Y_train_lin')\n",
    "    pyplot.hist(Y_val_lin, bins, alpha=0.5, label='Y_val_lin')\n",
    "    pyplot.title(\"Train|Val| Histogram\")\n",
    "    pyplot.legend(loc='upper right')\n",
    "    pyplot.xlabel(\"BPM\")\n",
    "    pyplot.ylabel(\"Recorrência\")\n",
    "    pyplot.show()\n",
    "\n",
    "\n",
    "else:\n",
    "    #===TEST===#\n",
    "    Y_test_ = []\n",
    "    Y_test_lin = []\n",
    "\n",
    "    for cont in range(0,Y_test.shape[0]):\n",
    "        a = 0\n",
    "        i = 0\n",
    "        for a in range(0,Y_test.shape[1]):\n",
    "            i = Y_test[cont][a]\n",
    "            if (i==1):\n",
    "                Y_test_.append(a)\n",
    "            a += 1\n",
    "    for i in range(0,Y_test.shape[0]):\n",
    "        for j in range(0,limclass):\n",
    "            if Y_test_[i]+20==classes_sort[j][0]:\n",
    "                Y_test_lin.append(classes_sort[j][0])\n",
    "    #print(np.array(Y_test_lin))\n",
    "    pyplot.hist(Y_test_lin, bins, alpha=0.5, label='Y_test_lin')\n",
    "    pyplot.title(\"Test Histogram\")\n",
    "    pyplot.legend(loc='upper right')\n",
    "    pyplot.xlabel(\"BPM\")\n",
    "    pyplot.ylabel(\"Recorrência\")\n",
    "    pyplot.show()\n",
    "\n",
    "\n"
   ]
  },
  {
   "cell_type": "code",
   "execution_count": 18,
   "metadata": {},
   "outputs": [],
   "source": [
    "if filename=='mtg' or filename=='eball' or filename=='extended_ballroom' or filename=='lmd' or filename==\"gtzan\":\n",
    "    plt.hist(Y_train_lin,bins)\n",
    "    plt.title(\"Train Histogram\")\n",
    "    plt.xlabel(\"BPM\")\n",
    "    plt.ylabel(\"Recorrência\")\n",
    "    plt.show()"
   ]
  },
  {
   "cell_type": "code",
   "execution_count": 19,
   "metadata": {},
   "outputs": [
    {
     "data": {
      "image/png": "[encoded data removed]",
      "text/plain": [
       "<Figure size 432x288 with 1 Axes>"
      ]
     },
     "metadata": {
      "needs_background": "light"
     },
     "output_type": "display_data"
    }
   ],
   "source": [
    "if filename=='mtg' or filename=='eball' or filename=='extended_ballroom' or filename=='lmd' or filename==\"gtzan\":\n",
    "    plt.hist(Y_val_lin,bins)\n",
    "    plt.title(\"Validation Histogram\")\n",
    "    plt.xlabel(\"BPM\")\n",
    "    plt.ylabel(\"Recorrência\")\n",
    "    plt.show()\n",
    "else:\n",
    "    plt.hist(Y_test_lin,bins)\n",
    "    plt.title(\"Test Histogram\")\n",
    "    plt.xlabel(\"BPM\")\n",
    "    plt.ylabel(\"Recorrência\")\n",
    "    plt.show()"
   ]
  },
  {
   "cell_type": "code",
   "execution_count": 20,
   "metadata": {},
   "outputs": [],
   "source": [
    "hf = h5py.File('h5/Data_' + str(filename) + '.hdf5','a')\n",
    "\n",
    "if filename=='mtg' or filename=='eball' or filename=='extended_ballroom' or filename=='lmd' or filename==\"gtzan\":\n",
    "    Xtrain = hf.create_group('Xtrain')\n",
    "    Ytrain = hf.create_group('Ytrain')\n",
    "    Xval = hf.create_group('Xval')\n",
    "    Yval = hf.create_group('Yval')\n",
    "    Classessort = hf.create_group('Classessort')\n",
    "    Rcr = hf.create_group('Rcr')\n",
    "else:\n",
    "    Xtest = hf.create_group('Xtest')\n",
    "    Ytest = hf.create_group('Ytest')\n",
    "    Classessort = hf.create_group('Classessort')\n",
    "    Rcr = hf.create_group('Rcr')\n",
    "\n",
    "if filename=='mtg' or filename=='eball' or filename=='extended_ballroom' or filename=='lmd' or filename==\"gtzan\":\n",
    "    Xtrain.create_dataset(\"Xtrain\", data=X_train)\n",
    "    Ytrain.create_dataset(\"Ytrain\", data=Y_train)\n",
    "    Xval.create_dataset(\"Xval\", data=X_val)\n",
    "    Yval.create_dataset(\"Yval\", data=Y_val)\n",
    "    Classessort.create_dataset(\"Classessort\", data=classes_sort)\n",
    "    Rcr.create_dataset(\"Rcr\", data=recorrencia)\n",
    "else:\n",
    "    Xtest.create_dataset(\"Xtest\", data=X_test)\n",
    "    Ytest.create_dataset(\"Ytest\", data=Y_test)\n",
    "    Classessort.create_dataset(\"Classessort\", data=classes_sort)\n",
    "    Rcr.create_dataset(\"Rcr\", data=recorrencia)\n",
    "\n",
    "hf.close()\n"
   ]
  },
  {
   "cell_type": "code",
   "execution_count": null,
   "metadata": {},
   "outputs": [],
   "source": []
  }
 ],
 "metadata": {
  "kernelspec": {
   "display_name": "Python 3",
   "language": "python",
   "name": "python3"
  },
  "language_info": {
   "codemirror_mode": {
    "name": "ipython",
    "version": 3
   },
   "file_extension": ".py",
   "mimetype": "text/x-python",
   "name": "python",
   "nbconvert_exporter": "python",
   "pygments_lexer": "ipython3",
   "version": "3.7.0"
  }
 },
 "nbformat": 4,
 "nbformat_minor": 2
}
